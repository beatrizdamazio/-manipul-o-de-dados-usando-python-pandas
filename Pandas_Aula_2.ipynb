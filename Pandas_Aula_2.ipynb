{
  "nbformat": 4,
  "nbformat_minor": 0,
  "metadata": {
    "colab": {
      "provenance": [],
      "toc_visible": true,
      "authorship_tag": "ABX9TyPwR0Rj4LosT7ots9m3Ub+W",
      "include_colab_link": true
    },
    "kernelspec": {
      "name": "python3",
      "display_name": "Python 3"
    },
    "language_info": {
      "name": "python"
    }
  },
  "cells": [
    {
      "cell_type": "markdown",
      "metadata": {
        "id": "view-in-github",
        "colab_type": "text"
      },
      "source": [
        "<a href=\"https://colab.research.google.com/github/beatrizdamazio/-manipul-o-de-dados-usando-python-pandas/blob/main/Pandas_Aula_2.ipynb\" target=\"_parent\"><img src=\"https://colab.research.google.com/assets/colab-badge.svg\" alt=\"Open In Colab\"/></a>"
      ]
    },
    {
      "cell_type": "markdown",
      "source": [
        "**Primeiro exemplo de manipulção de dados usando python pandas**\n",
        "\n",
        "Autores: Beatriz Damazio e Henrique Poyatos\n",
        "\n",
        "Data:6 de fevereiro de 2023"
      ],
      "metadata": {
        "id": "7N-49oAEUasJ"
      }
    },
    {
      "cell_type": "code",
      "source": [
        "#para instalar, use este comando\n"
      ],
      "metadata": {
        "id": "qrxqxUldWMbw"
      },
      "execution_count": null,
      "outputs": []
    },
    {
      "cell_type": "code",
      "execution_count": 1,
      "metadata": {
        "id": "tFu8-IFyC34i"
      },
      "outputs": [],
      "source": [
        "# importanto biblioteca pandas no python\n",
        "import pandas as pd\n",
        "combustiveis_df = pd.read_excel(\"ca-2021-02.xlsx\")"
      ]
    },
    {
      "cell_type": "code",
      "source": [
        "#use o print para ver o dataframe\n",
        "print (combustiveis_df)"
      ],
      "metadata": {
        "id": "1Rv_1cCABhLD"
      },
      "execution_count": null,
      "outputs": []
    },
    {
      "cell_type": "code",
      "source": [
        "#use display para ver o database tabeladinho bonitinho\n",
        "display (combustiveis_df)"
      ],
      "metadata": {
        "id": "OjAdl7WZCPB2"
      },
      "execution_count": null,
      "outputs": []
    },
    {
      "cell_type": "code",
      "source": [
        "#exibe as primeiras 5 linhas\n",
        "display(combustiveis_df.head())"
      ],
      "metadata": {
        "id": "uf9d0pmZE6yX"
      },
      "execution_count": null,
      "outputs": []
    },
    {
      "cell_type": "code",
      "source": [
        "#exibir as primeiras 15 linhas\n",
        "display (combustiveis_df.head(15))"
      ],
      "metadata": {
        "id": "5peDVwIuFsiV"
      },
      "execution_count": null,
      "outputs": []
    },
    {
      "cell_type": "code",
      "source": [
        "#comando dataframe.shape para ver quantas linhas e colunas tem\n",
        "print (combustiveis_df.shape)"
      ],
      "metadata": {
        "colab": {
          "base_uri": "https://localhost:8080/"
        },
        "id": "fDTcHzG1HSw4",
        "outputId": "8075995e-d845-435e-830c-d3c50da5f24e"
      },
      "execution_count": 15,
      "outputs": [
        {
          "output_type": "stream",
          "name": "stdout",
          "text": [
            "(168409, 16)\n"
          ]
        }
      ]
    },
    {
      "cell_type": "code",
      "source": [
        "#comando dataframe.describe para ver as estatisticas basicas ()\n",
        "print (combustiveis_df.describe)"
      ],
      "metadata": {
        "id": "zGU_5ugxIWDe"
      },
      "execution_count": null,
      "outputs": []
    }
  ]
}