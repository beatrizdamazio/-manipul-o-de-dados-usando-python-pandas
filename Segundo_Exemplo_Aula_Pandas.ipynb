{
  "nbformat": 4,
  "nbformat_minor": 0,
  "metadata": {
    "colab": {
      "provenance": [],
      "authorship_tag": "ABX9TyMXFeHC8XX2wUfufZO5NB+y",
      "include_colab_link": true
    },
    "kernelspec": {
      "name": "python3",
      "display_name": "Python 3"
    },
    "language_info": {
      "name": "python"
    }
  },
  "cells": [
    {
      "cell_type": "markdown",
      "metadata": {
        "id": "view-in-github",
        "colab_type": "text"
      },
      "source": [
        "<a href=\"https://colab.research.google.com/github/beatrizdamazio/-manipul-o-de-dados-usando-python-pandas/blob/main/Segundo_Exemplo_Aula_Pandas.ipynb\" target=\"_parent\"><img src=\"https://colab.research.google.com/assets/colab-badge.svg\" alt=\"Open In Colab\"/></a>"
      ]
    },
    {
      "cell_type": "markdown",
      "source": [
        "**Inserção de dados, remoção de colunas, merge, gráficos**"
      ],
      "metadata": {
        "id": "yau8Nr0E3kRP"
      }
    },
    {
      "cell_type": "markdown",
      "source": [
        "Professor: Henrique Poyatos\n",
        "\n",
        "Aluna: Beatriz Damazio"
      ],
      "metadata": {
        "id": "CabnBP8D32Wj"
      }
    },
    {
      "cell_type": "code",
      "source": [
        "import pandas as pd"
      ],
      "metadata": {
        "id": "ZgJP3joI3ty2"
      },
      "execution_count": 1,
      "outputs": []
    },
    {
      "cell_type": "code",
      "source": [
        "combustiveis_df = pd.read_excel (\"ca-2021-02.xlsx\")"
      ],
      "metadata": {
        "id": "TLUdp1y26YN8"
      },
      "execution_count": 4,
      "outputs": []
    },
    {
      "cell_type": "code",
      "source": [
        "display (combustiveis_df.head())"
      ],
      "metadata": {
        "id": "Zuyfto0V61Ws"
      },
      "execution_count": null,
      "outputs": []
    },
    {
      "cell_type": "code",
      "source": [
        "#inserção simples de dado\n",
        "combustiveis_df['Ativo'] = True\n",
        "display(combustiveis_df.head())"
      ],
      "metadata": {
        "id": "KBCtgkTN7Gw-"
      },
      "execution_count": null,
      "outputs": []
    },
    {
      "cell_type": "code",
      "source": [
        "# Criar uma coluna \"Obs\" que tenha nela escrito \"MELHOR CIDADE\" quando a coluna Municipio for igual a SAO PAULO\n",
        "combustiveis_df['Obs'] = [\"MELHOR CIDADE\" if municipio == 'SAO PAULO' else None for municipio in combustiveis_df['Municipio']]\n",
        "display(combustiveis_df.loc[combustiveis_df['Municipio'].isin(['SAO PAULO','INDAIATUBA', 'CAMPINAS', 'SALTO']), ['Municipio', 'Obs']])"
      ],
      "metadata": {
        "id": "QKTS2z37Fj-C"
      },
      "execution_count": null,
      "outputs": []
    },
    {
      "cell_type": "code",
      "source": [
        "# Calcular postos de gasolina por habitante temos na amostragem de \n",
        "# combustiveis nov/2021\n",
        "\n",
        "num_habitantes_df = pd.read_csv(\"ibge_num_habitantes_estimado.csv\", sep=\";\")\n",
        "num_habitantes_df.rename(columns={\"Estado\":\"Estado - Sigla\"}, inplace=True)\n",
        "display(num_habitantes_df)"
      ],
      "metadata": {
        "id": "x4jDLZxsFtne"
      },
      "execution_count": null,
      "outputs": []
    },
    {
      "cell_type": "code",
      "source": [
        "# Faz um MERGE dos dois dataframes\n",
        "colunas = ['Municipio', 'Estado - Sigla']\n",
        "merge_df = combustiveis_df.merge(num_habitantes_df, how=\"inner\", on=colunas)\n",
        "display(merge_df)\n",
        "print(merge_df.info())"
      ],
      "metadata": {
        "id": "9kBNzo07Fwxw"
      },
      "execution_count": null,
      "outputs": []
    },
    {
      "cell_type": "code",
      "source": [
        "#Destruir coluna completamente vazia (todas as linhas são nulas)\n",
        "merge_df.dropna(axis='columns', inplace=True)\n",
        "print(merge_df.info())\n",
        "     "
      ],
      "metadata": {
        "id": "gWt7igvBFzyI"
      },
      "execution_count": null,
      "outputs": []
    },
    {
      "cell_type": "code",
      "source": [
        "colunas=['Regiao - Sigla', 'Nome da Rua', 'Numero Rua', \n",
        "         'Bairro', 'Cep', 'Produto', 'Data da Coleta', 'Valor de Venda',\n",
        "         'Unidade de Medida', 'Bandeira', 'Ativo', 'Status do Valor de Venda']\n",
        "merge_df.drop(labels=colunas, axis=1, inplace=True)\n",
        "print(merge_df.info())"
      ],
      "metadata": {
        "id": "kdOHNCslF2CR"
      },
      "execution_count": null,
      "outputs": []
    },
    {
      "cell_type": "code",
      "source": [
        "display(merge_df.head(100))"
      ],
      "metadata": {
        "id": "_LuWbIc2F4to"
      },
      "execution_count": null,
      "outputs": []
    },
    {
      "cell_type": "code",
      "source": [
        "# Remover a linhas duplicadas\n",
        "merge_df.drop_duplicates(inplace=True)\n",
        "display(merge_df.head(100))"
      ],
      "metadata": {
        "id": "BiC_3psDF6yZ"
      },
      "execution_count": null,
      "outputs": []
    },
    {
      "cell_type": "code",
      "source": [
        "#AQUI O FINAL ESTÁ COM PROBLEMA\n",
        "\n",
        "#Agrupar e contar quantos postos tem na cidade..\n",
        "postos_por_municipio_df = merge_df.groupby(by=['Estado - Sigla', 'Municipio', 'NumHabitantes2021']).count()\n",
        "postos_por_municipio_df.reset_index(inplace=True)\n",
        "#display(postos_por_municipio_df.info())\n",
        "postos_por_municipio_df.drop('CNPJ da Revenda', axis=1, inplace=True)\n",
        "postos_por_municipio_df.rename(columns={\"Revenda\": \"NumPostos\"}, inplace=True)\n",
        "\n",
        "postos_por_municipio_df['NumHabitantesPorPosto'] = postos_por_municipio_df['NumHabitantes2021'] / postos_por_municipio_df['NumPostos']\n",
        "#display(postos_por_municipio_df.info())\n",
        "display(postos_por_municipio_df)"
      ],
      "metadata": {
        "id": "Bu3oHnXvF9nM"
      },
      "execution_count": null,
      "outputs": []
    },
    {
      "cell_type": "code",
      "source": [
        "#Vamos brincar de gráficos!!!\n",
        "\n",
        "import matplotlib.pyplot as plt\n",
        "\n",
        "plt.hist(combustiveis_df['Valor de Venda'])\n",
        "#Vamos colocar um título no gráfico\n",
        "plt.title(\"Preço dos combustíveis - Nov/2021\")\n",
        "#Rótulo horizontal e vertical\n",
        "plt.xlabel(\"Preço (em reais)\")\n",
        "plt.ylabel(\"Quantidade de Coletas\")\n",
        "\n",
        "#Traça a linha vermelha tracejada com o preço médio\n",
        "plt.axvline(combustiveis_df['Valor de Venda'].mean(), color='red', linestyle='dashed', linewidth=5)\n",
        "\n",
        "\n",
        "#\"Plota\" o gráfico\n",
        "plt.show()"
      ],
      "metadata": {
        "id": "ByE8GZ4nGCHQ"
      },
      "execution_count": null,
      "outputs": []
    },
    {
      "cell_type": "code",
      "source": [
        "#Visualização do consumo médio\n",
        "c_mean = combustiveis_df['Valor de Venda'].groupby(by=combustiveis_df['Produto']).mean()\n",
        "display(c_mean)"
      ],
      "metadata": {
        "id": "lnF5U0l8GFCb"
      },
      "execution_count": null,
      "outputs": []
    },
    {
      "cell_type": "code",
      "source": [
        "import seaborn as sns\n",
        "\n",
        "#Vou definir a área do gráfico\n",
        "plt.figure(figsize=(15,7))\n",
        "\n",
        "#Plotar o gráfico\n",
        "c_mean.plot(\n",
        "    kind=\"barh\",\n",
        "    xlabel=\"Tipo de Combustível\",\n",
        "    ylabel=\"Preço reais/litro\",\n",
        "    title=\"Média de preços por combustível\",\n",
        "    color=\"red\",\n",
        "    alpha=0.3\n",
        ")\n",
        "\n",
        "#Grid\n",
        "plt.grid()\n",
        "\n",
        "#Remover as linhas superior e lateral direita do gráfico \n",
        "sns.despine()\n",
        "\n",
        "#Exibe\n",
        "plt.show()"
      ],
      "metadata": {
        "id": "S4g_4a95GIFq"
      },
      "execution_count": null,
      "outputs": []
    },
    {
      "cell_type": "code",
      "source": [
        "#c_mean.reset_index(inplace=True)\n",
        "display(c_mean)\n",
        "\n",
        "excel = \"por_litro.xlsx\"\n",
        "c_mean.to_excel(excel, \"Sumário\")"
      ],
      "metadata": {
        "id": "vUr9TgviGKfD"
      },
      "execution_count": null,
      "outputs": []
    },
    {
      "cell_type": "code",
      "source": [
        "#Vamor personalizar a planilha Excel...\n",
        "from openpyxl import load_workbook\n",
        "from openpyxl.styles import PatternFill, Font, Color, Alignment\n",
        "\n",
        "#Vai abrir o Excel no openpyxl\n",
        "wb = load_workbook(excel) # wb = Workbook\n",
        "\n",
        "#Pegar a planilha certa... usando o Sheet Name (nome da planilha)\n",
        "ws = wb['Sumário'] # Work Sheet -> planilha atual, ativa, de trabalho\n",
        "\n",
        "#Vamos pintar o cabeçalho da tabela de \"cinzinha\"\n",
        "cinzinha = PatternFill(\"solid\", fgColor=\"CCCCCC\")\n",
        "coords = ['A1', 'B1']\n",
        "for coord in coords:\n",
        "  ws[coord].fill = cinzinha\n",
        "\n",
        "#Onde o preço do combustível for maior ou igual a 6,5 reais (6.5) pinta a fonte\n",
        "#de vermelho e deixa negrito...\n",
        "MAX_ROW = ws.max_row\n",
        "num_linha = 2\n",
        "while (num_linha <= MAX_ROW):\n",
        "  coord = 'B'+str(num_linha) #coord=\"B{0}\".format(num_linha)\n",
        "  if ws[coord].value >= 6.5:\n",
        "    ws[coord].font = Font(bold=True, color=\"FF0000\")\n",
        "  num_linha = num_linha + 1\n",
        "#Salvar o Excel\n",
        "wb.save(excel)"
      ],
      "metadata": {
        "id": "Q-1Pwpr_GNvr"
      },
      "execution_count": null,
      "outputs": []
    }
  ]
}