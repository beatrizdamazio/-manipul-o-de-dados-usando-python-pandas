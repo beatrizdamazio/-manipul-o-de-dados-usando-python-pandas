{
  "nbformat": 4,
  "nbformat_minor": 0,
  "metadata": {
    "colab": {
      "provenance": [],
      "authorship_tag": "ABX9TyP4CmkOUUF/mV5VJQtI0Vzx",
      "include_colab_link": true
    },
    "kernelspec": {
      "name": "python3",
      "display_name": "Python 3"
    },
    "language_info": {
      "name": "python"
    }
  },
  "cells": [
    {
      "cell_type": "markdown",
      "metadata": {
        "id": "view-in-github",
        "colab_type": "text"
      },
      "source": [
        "<a href=\"https://colab.research.google.com/github/beatrizdamazio/-manipul-o-de-dados-usando-python-pandas/blob/main/Primeiro_Exemplo_Em_Pandas.ipynb\" target=\"_parent\"><img src=\"https://colab.research.google.com/assets/colab-badge.svg\" alt=\"Open In Colab\"/></a>"
      ]
    },
    {
      "cell_type": "markdown",
      "source": [
        "**Primeiro exemplo de manipulção de dados usando python pandas**\n",
        "\n",
        "Autores: Beatriz Damazio e Henrique Poyatos\n",
        "\n",
        "Data:6 de fevereiro de 2023"
      ],
      "metadata": {
        "id": "7N-49oAEUasJ"
      }
    },
    {
      "cell_type": "code",
      "source": [
        "#1) Para instalar, use este comando\n",
        "!pip install pandas"
      ],
      "metadata": {
        "id": "qrxqxUldWMbw"
      },
      "execution_count": null,
      "outputs": []
    },
    {
      "cell_type": "code",
      "execution_count": null,
      "metadata": {
        "id": "tFu8-IFyC34i"
      },
      "outputs": [],
      "source": [
        "#2) Importanto biblioteca pandas no python\n",
        "import pandas as pd\n",
        "combustiveis_df = pd.read_excel(\"ca-2021-02.xlsx\")"
      ]
    },
    {
      "cell_type": "code",
      "source": [
        "#3) Ver o dataframe\n",
        "print (combustiveis_df)"
      ],
      "metadata": {
        "id": "1Rv_1cCABhLD"
      },
      "execution_count": null,
      "outputs": []
    },
    {
      "cell_type": "code",
      "source": [
        "#4) Ver o database tabeladinho bonitinho\n",
        "display (combustiveis_df)"
      ],
      "metadata": {
        "id": "OjAdl7WZCPB2"
      },
      "execution_count": null,
      "outputs": []
    },
    {
      "cell_type": "code",
      "source": [
        "#5) Exibir as primeiras 5 linhas\n",
        "display(combustiveis_df.head())"
      ],
      "metadata": {
        "id": "uf9d0pmZE6yX"
      },
      "execution_count": null,
      "outputs": []
    },
    {
      "cell_type": "code",
      "source": [
        "#6) Exibir as primeiras 15 linhas\n",
        "display (combustiveis_df.head(15))"
      ],
      "metadata": {
        "id": "5peDVwIuFsiV"
      },
      "execution_count": null,
      "outputs": []
    },
    {
      "cell_type": "code",
      "source": [
        "#7) Mostrar quantas linhas e colunas tem\n",
        "print (combustiveis_df.shape)"
      ],
      "metadata": {
        "colab": {
          "base_uri": "https://localhost:8080/"
        },
        "id": "fDTcHzG1HSw4",
        "outputId": "8075995e-d845-435e-830c-d3c50da5f24e"
      },
      "execution_count": null,
      "outputs": [
        {
          "output_type": "stream",
          "name": "stdout",
          "text": [
            "(168409, 16)\n"
          ]
        }
      ]
    },
    {
      "cell_type": "code",
      "source": [
        "#8) Mostrar as estatisticas basicas ()\n",
        "print (combustiveis_df.describe)"
      ],
      "metadata": {
        "id": "zGU_5ugxIWDe"
      },
      "execution_count": null,
      "outputs": []
    },
    {
      "cell_type": "code",
      "source": [
        "#9) Mostrar quais são as colunas e que tipo de dados cada um tem\n",
        "print(combustiveis_df.info)"
      ],
      "metadata": {
        "id": "Pl9xqZi9JPmH"
      },
      "execution_count": null,
      "outputs": []
    },
    {
      "cell_type": "code",
      "source": [
        "#10) Filtrar por apenas uma coluna\n",
        "display (combustiveis_df['Revenda'])"
      ],
      "metadata": {
        "id": "uBDH6nkXYXXt"
      },
      "execution_count": null,
      "outputs": []
    },
    {
      "cell_type": "code",
      "source": [
        "#11) Para filtrar por mais de uma coluna, criar um novo dataframe apenas com as colunas desejadas\n",
        "ca_df = combustiveis_df[['Revenda', 'Municipio', 'Valor de Venda']] \n",
        "display(ca_df)`"
      ],
      "metadata": {
        "id": "nlMKtbBIaIJx"
      },
      "execution_count": null,
      "outputs": []
    },
    {
      "cell_type": "code",
      "source": [
        "#12) Para adicionar colunas ao dataframe criado, basta inserir.\n",
        "ca_df = combustiveis_df[['Revenda', 'Municipio', 'Produto' 'Valor de Venda']] \n",
        "display(ca_df)`"
      ],
      "metadata": {
        "id": "px7jSWeSaXsw"
      },
      "execution_count": null,
      "outputs": []
    },
    {
      "cell_type": "code",
      "source": [
        "#13) Mostrar uma linha em específico\n",
        "display(ca_df.loc[3])"
      ],
      "metadata": {
        "id": "w01m3_XvbqJ7"
      },
      "execution_count": null,
      "outputs": []
    },
    {
      "cell_type": "code",
      "source": [
        "#14) Mostrar um intervalo de linhas\n",
        "display(ca_df.loc[9:19])"
      ],
      "metadata": {
        "id": "glsRMh3BcCh8"
      },
      "execution_count": null,
      "outputs": []
    },
    {
      "cell_type": "code",
      "source": [
        "#Criar um dataframe gas_df contendo\n",
        "# apenas as quatro colunas (Revenda, Municipio, Produto, Valor de venda)\n",
        "# somente com combustivel GASOLINA."
      ],
      "metadata": {
        "id": "eFOqVhZ62s8r"
      },
      "execution_count": null,
      "outputs": []
    },
    {
      "cell_type": "markdown",
      "source": [
        "**ATIVIDADE**\n",
        "\n",
        "Criar um dataframe gas_df contendo apenas as quatro colunas (Revenda, Municipio, Produto, Valor de venda) somente com combustivel GASOLINA."
      ],
      "metadata": {
        "id": "86zM-GXcZt4c"
      }
    },
    {
      "cell_type": "code",
      "source": [
        "gas_df = ca_df.loc[ca_df['Produto'] == 'GASOLINA']\n",
        "display(gas_df)\n",
        "\n",
        "display(gas_df['Valor de Venda'].max())"
      ],
      "metadata": {
        "id": "9CWg44xiZ-kl"
      },
      "execution_count": null,
      "outputs": []
    },
    {
      "cell_type": "code",
      "source": [
        "# Mostrar qual é o posto e municipio com gasolina mais cara do pais\n",
        "display(gas_df[['Revenda', 'Municipio', 'Valor de Venda']].max())"
      ],
      "metadata": {
        "id": "XQ7NT2UJZ_r6"
      },
      "execution_count": null,
      "outputs": []
    }
  ]
}